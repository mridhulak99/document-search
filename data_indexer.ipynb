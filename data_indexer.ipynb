{
 "cells": [
  {
   "cell_type": "code",
   "execution_count": 79,
   "id": "1c4cfe45",
   "metadata": {},
   "outputs": [
    {
     "name": "stderr",
     "output_type": "stream",
     "text": [
      "[nltk_data] Downloading package stopwords to\n",
      "[nltk_data]     C:\\Users\\Mridhula\\AppData\\Roaming\\nltk_data...\n",
      "[nltk_data]   Package stopwords is already up-to-date!\n",
      "[nltk_data] Downloading package punkt to\n",
      "[nltk_data]     C:\\Users\\Mridhula\\AppData\\Roaming\\nltk_data...\n",
      "[nltk_data]   Package punkt is already up-to-date!\n"
     ]
    }
   ],
   "source": [
    "import os\n",
    "from zipfile import ZipFile\n",
    "from pathlib import Path\n",
    "from nltk.stem import PorterStemmer\n",
    "from nltk.tokenize import word_tokenize\n",
    "from functools import reduce\n",
    "from nltk.corpus import stopwords\n",
    "import nltk\n",
    "nltk.download('stopwords')\n",
    "nltk.download('punkt')\n",
    "stop_words = set(stopwords.words('english')) \n",
    "ps = PorterStemmer()"
   ]
  },
  {
   "cell_type": "code",
   "execution_count": 80,
   "id": "a86e8255",
   "metadata": {},
   "outputs": [],
   "source": [
    "baseInputTransform = \"project/input-transform\"\n",
    "baseInvIndex = \"project/inv-index\""
   ]
  },
  {
   "cell_type": "code",
   "execution_count": 81,
   "id": "fddfab26",
   "metadata": {},
   "outputs": [],
   "source": [
    "def readFile(fileName):\n",
    "    f = open(fileName)\n",
    "    contents = f.read()\n",
    "    f.close()\n",
    "    return contents"
   ]
  },
  {
   "cell_type": "code",
   "execution_count": 82,
   "id": "3dcfe9bc",
   "metadata": {},
   "outputs": [],
   "source": [
    "def writeFile(fileName, content):\n",
    "    f = open(fileName, 'a+')\n",
    "    f.write(content)\n",
    "    f.close()"
   ]
  },
  {
   "cell_type": "code",
   "execution_count": 83,
   "id": "929c5502",
   "metadata": {},
   "outputs": [],
   "source": [
    "def createInvIndex(mp, documentno, invPath):\n",
    "    for key, value in mp.items():\n",
    "        trie = ''\n",
    "        for k in key:\n",
    "            trie += '/' + k\n",
    "            path = invPath+trie\n",
    "            if not os.path.exists(path):\n",
    "                os.makedirs(path)\n",
    "        file_name = invPath+trie+ '/'+key+\".txt\"\n",
    "        processIndex = documentno + \":\" + str(len(value)) + \":\" + \",\".join(value) + \";\"\n",
    "        writeFile(file_name, processIndex)"
   ]
  },
  {
   "cell_type": "code",
   "execution_count": 84,
   "id": "b5bf089f",
   "metadata": {},
   "outputs": [],
   "source": [
    "def helper(filename):\n",
    "    contents = readFile(filename);\n",
    "    contents = contents.split()\n",
    "    mp = dict()\n",
    "    for idx, content in enumerate(contents):\n",
    "        if content not in mp:\n",
    "            mp[content] = []\n",
    "        mp[content].append(str(idx + 1))\n",
    "    documentno = filename.split('/')[-1][:-4]\n",
    "    createInvIndex(mp, documentno, baseInvIndex)\n",
    "        "
   ]
  },
  {
   "cell_type": "code",
   "execution_count": 85,
   "id": "33ac628b",
   "metadata": {},
   "outputs": [],
   "source": [
    "def filePathRecurse(basePath):\n",
    "    if basePath[-4:] == \".txt\":\n",
    "        print(basePath)\n",
    "        helper(basePath)\n",
    "        return \n",
    "    try:\n",
    "        dirList = os.listdir(basePath)\n",
    "    except Exception as e:\n",
    "        return\n",
    "    for path in dirList:\n",
    "        filePathRecurse(basePath + '/' + path)"
   ]
  },
  {
   "cell_type": "code",
   "execution_count": 86,
   "id": "d90cdaf1",
   "metadata": {},
   "outputs": [
    {
     "name": "stdout",
     "output_type": "stream",
     "text": [
      "project/input-transform/aleph.gutenberg.org/1/0/0/0/10001/10001.txt\n",
      "project/input-transform/aleph.gutenberg.org/1/0/0/0/10002/10002.txt\n",
      "project/input-transform/aleph.gutenberg.org/1/0/0/0/10003/10003.txt\n",
      "project/input-transform/aleph.gutenberg.org/1/0/0/0/10004/10004.txt\n"
     ]
    },
    {
     "ename": "KeyboardInterrupt",
     "evalue": "",
     "output_type": "error",
     "traceback": [
      "\u001b[1;31m---------------------------------------------------------------------------\u001b[0m",
      "\u001b[1;31mKeyboardInterrupt\u001b[0m                         Traceback (most recent call last)",
      "Cell \u001b[1;32mIn[86], line 1\u001b[0m\n\u001b[1;32m----> 1\u001b[0m filePathRecurse(baseInputTransform)\n",
      "Cell \u001b[1;32mIn[85], line 11\u001b[0m, in \u001b[0;36mfilePathRecurse\u001b[1;34m(basePath)\u001b[0m\n\u001b[0;32m      9\u001b[0m     \u001b[38;5;28;01mreturn\u001b[39;00m\n\u001b[0;32m     10\u001b[0m \u001b[38;5;28;01mfor\u001b[39;00m path \u001b[38;5;129;01min\u001b[39;00m dirList:\n\u001b[1;32m---> 11\u001b[0m     filePathRecurse(basePath \u001b[38;5;241m+\u001b[39m \u001b[38;5;124m'\u001b[39m\u001b[38;5;124m/\u001b[39m\u001b[38;5;124m'\u001b[39m \u001b[38;5;241m+\u001b[39m path)\n",
      "Cell \u001b[1;32mIn[85], line 11\u001b[0m, in \u001b[0;36mfilePathRecurse\u001b[1;34m(basePath)\u001b[0m\n\u001b[0;32m      9\u001b[0m     \u001b[38;5;28;01mreturn\u001b[39;00m\n\u001b[0;32m     10\u001b[0m \u001b[38;5;28;01mfor\u001b[39;00m path \u001b[38;5;129;01min\u001b[39;00m dirList:\n\u001b[1;32m---> 11\u001b[0m     filePathRecurse(basePath \u001b[38;5;241m+\u001b[39m \u001b[38;5;124m'\u001b[39m\u001b[38;5;124m/\u001b[39m\u001b[38;5;124m'\u001b[39m \u001b[38;5;241m+\u001b[39m path)\n",
      "    \u001b[1;31m[... skipping similar frames: filePathRecurse at line 11 (4 times)]\u001b[0m\n",
      "Cell \u001b[1;32mIn[85], line 11\u001b[0m, in \u001b[0;36mfilePathRecurse\u001b[1;34m(basePath)\u001b[0m\n\u001b[0;32m      9\u001b[0m     \u001b[38;5;28;01mreturn\u001b[39;00m\n\u001b[0;32m     10\u001b[0m \u001b[38;5;28;01mfor\u001b[39;00m path \u001b[38;5;129;01min\u001b[39;00m dirList:\n\u001b[1;32m---> 11\u001b[0m     filePathRecurse(basePath \u001b[38;5;241m+\u001b[39m \u001b[38;5;124m'\u001b[39m\u001b[38;5;124m/\u001b[39m\u001b[38;5;124m'\u001b[39m \u001b[38;5;241m+\u001b[39m path)\n",
      "Cell \u001b[1;32mIn[85], line 4\u001b[0m, in \u001b[0;36mfilePathRecurse\u001b[1;34m(basePath)\u001b[0m\n\u001b[0;32m      2\u001b[0m \u001b[38;5;28;01mif\u001b[39;00m basePath[\u001b[38;5;241m-\u001b[39m\u001b[38;5;241m4\u001b[39m:] \u001b[38;5;241m==\u001b[39m \u001b[38;5;124m\"\u001b[39m\u001b[38;5;124m.txt\u001b[39m\u001b[38;5;124m\"\u001b[39m:\n\u001b[0;32m      3\u001b[0m     \u001b[38;5;28mprint\u001b[39m(basePath)\n\u001b[1;32m----> 4\u001b[0m     helper(basePath)\n\u001b[0;32m      5\u001b[0m     \u001b[38;5;28;01mreturn\u001b[39;00m \n\u001b[0;32m      6\u001b[0m \u001b[38;5;28;01mtry\u001b[39;00m:\n",
      "Cell \u001b[1;32mIn[84], line 10\u001b[0m, in \u001b[0;36mhelper\u001b[1;34m(filename)\u001b[0m\n\u001b[0;32m      8\u001b[0m     mp[content]\u001b[38;5;241m.\u001b[39mappend(\u001b[38;5;28mstr\u001b[39m(idx \u001b[38;5;241m+\u001b[39m \u001b[38;5;241m1\u001b[39m))\n\u001b[0;32m      9\u001b[0m documentno \u001b[38;5;241m=\u001b[39m filename\u001b[38;5;241m.\u001b[39msplit(\u001b[38;5;124m'\u001b[39m\u001b[38;5;124m/\u001b[39m\u001b[38;5;124m'\u001b[39m)[\u001b[38;5;241m-\u001b[39m\u001b[38;5;241m1\u001b[39m][:\u001b[38;5;241m-\u001b[39m\u001b[38;5;241m4\u001b[39m]\n\u001b[1;32m---> 10\u001b[0m createInvIndex(mp, documentno, baseInvIndex)\n",
      "Cell \u001b[1;32mIn[83], line 11\u001b[0m, in \u001b[0;36mcreateInvIndex\u001b[1;34m(mp, documentno, invPath)\u001b[0m\n\u001b[0;32m      9\u001b[0m file_name \u001b[38;5;241m=\u001b[39m invPath\u001b[38;5;241m+\u001b[39mtrie\u001b[38;5;241m+\u001b[39m \u001b[38;5;124m'\u001b[39m\u001b[38;5;124m/\u001b[39m\u001b[38;5;124m'\u001b[39m\u001b[38;5;241m+\u001b[39mkey\u001b[38;5;241m+\u001b[39m\u001b[38;5;124m\"\u001b[39m\u001b[38;5;124m.txt\u001b[39m\u001b[38;5;124m\"\u001b[39m\n\u001b[0;32m     10\u001b[0m processIndex \u001b[38;5;241m=\u001b[39m documentno \u001b[38;5;241m+\u001b[39m \u001b[38;5;124m\"\u001b[39m\u001b[38;5;124m:\u001b[39m\u001b[38;5;124m\"\u001b[39m \u001b[38;5;241m+\u001b[39m \u001b[38;5;28mstr\u001b[39m(\u001b[38;5;28mlen\u001b[39m(value)) \u001b[38;5;241m+\u001b[39m \u001b[38;5;124m\"\u001b[39m\u001b[38;5;124m:\u001b[39m\u001b[38;5;124m\"\u001b[39m \u001b[38;5;241m+\u001b[39m \u001b[38;5;124m\"\u001b[39m\u001b[38;5;124m,\u001b[39m\u001b[38;5;124m\"\u001b[39m\u001b[38;5;241m.\u001b[39mjoin(value) \u001b[38;5;241m+\u001b[39m \u001b[38;5;124m\"\u001b[39m\u001b[38;5;124m;\u001b[39m\u001b[38;5;124m\"\u001b[39m\n\u001b[1;32m---> 11\u001b[0m writeFile(file_name, processIndex)\n",
      "Cell \u001b[1;32mIn[82], line 4\u001b[0m, in \u001b[0;36mwriteFile\u001b[1;34m(fileName, content)\u001b[0m\n\u001b[0;32m      2\u001b[0m f \u001b[38;5;241m=\u001b[39m \u001b[38;5;28mopen\u001b[39m(fileName, \u001b[38;5;124m'\u001b[39m\u001b[38;5;124ma+\u001b[39m\u001b[38;5;124m'\u001b[39m)\n\u001b[0;32m      3\u001b[0m f\u001b[38;5;241m.\u001b[39mwrite(content)\n\u001b[1;32m----> 4\u001b[0m f\u001b[38;5;241m.\u001b[39mclose()\n",
      "\u001b[1;31mKeyboardInterrupt\u001b[0m: "
     ]
    }
   ],
   "source": [
    "filePathRecurse(baseInputTransform)"
   ]
  },
  {
   "cell_type": "code",
   "execution_count": null,
   "id": "d46e7ee0",
   "metadata": {},
   "outputs": [],
   "source": []
  }
 ],
 "metadata": {
  "kernelspec": {
   "display_name": "Python 3 (ipykernel)",
   "language": "python",
   "name": "python3"
  },
  "language_info": {
   "codemirror_mode": {
    "name": "ipython",
    "version": 3
   },
   "file_extension": ".py",
   "mimetype": "text/x-python",
   "name": "python",
   "nbconvert_exporter": "python",
   "pygments_lexer": "ipython3",
   "version": "3.11.5"
  }
 },
 "nbformat": 4,
 "nbformat_minor": 5
}
